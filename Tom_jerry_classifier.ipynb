{
 "cells": [
  {
   "cell_type": "code",
   "execution_count": null,
   "metadata": {
    "colab": {
     "base_uri": "https://localhost:8080/",
     "height": 156
    },
    "colab_type": "code",
    "id": "cngnUcXYp446",
    "outputId": "f148d494-a5c9-4d56-e574-7922fb99a0c5"
   },
   "outputs": [
    {
     "name": "stdout",
     "output_type": "stream",
     "text": [
      "Archive:  /content/585800_1057438_upload_train.zip\n",
      "  End-of-central-directory signature not found.  Either this file is not\n",
      "  a zipfile, or it constitutes one disk of a multi-part archive.  In the\n",
      "  latter case the central directory and zipfile comment will be found on\n",
      "  the last disk(s) of this archive.\n",
      "unzip:  cannot find zipfile directory in one of /content/585800_1057438_upload_train.zip or\n",
      "        /content/585800_1057438_upload_train.zip.zip, and cannot find /content/585800_1057438_upload_train.zip.ZIP, period.\n"
     ]
    }
   ],
   "source": [
    "!unzip \"/content/585800_1057438_upload_train.zip\""
   ]
  },
  {
   "cell_type": "code",
   "execution_count": null,
   "metadata": {
    "colab": {},
    "colab_type": "code",
    "id": "at6Hg5hsuBD7"
   },
   "outputs": [],
   "source": [
    "from keras.applications import VGG16"
   ]
  },
  {
   "cell_type": "code",
   "execution_count": null,
   "metadata": {
    "colab": {},
    "colab_type": "code",
    "id": "OgejiZSl1nk2"
   },
   "outputs": [],
   "source": [
    "conv_base=VGG16(weights='imagenet',\n",
    "                include_top=False,\n",
    "                input_shape=(150,150,3))"
   ]
  },
  {
   "cell_type": "code",
   "execution_count": null,
   "metadata": {
    "colab": {
     "base_uri": "https://localhost:8080/",
     "height": 799
    },
    "colab_type": "code",
    "id": "1Z9p72u52DfL",
    "outputId": "9e28c086-1ee9-49fb-8523-05388ea1e6e2"
   },
   "outputs": [
    {
     "name": "stdout",
     "output_type": "stream",
     "text": [
      "Model: \"vgg16\"\n",
      "_________________________________________________________________\n",
      "Layer (type)                 Output Shape              Param #   \n",
      "=================================================================\n",
      "input_2 (InputLayer)         (None, 150, 150, 3)       0         \n",
      "_________________________________________________________________\n",
      "block1_conv1 (Conv2D)        (None, 150, 150, 64)      1792      \n",
      "_________________________________________________________________\n",
      "block1_conv2 (Conv2D)        (None, 150, 150, 64)      36928     \n",
      "_________________________________________________________________\n",
      "block1_pool (MaxPooling2D)   (None, 75, 75, 64)        0         \n",
      "_________________________________________________________________\n",
      "block2_conv1 (Conv2D)        (None, 75, 75, 128)       73856     \n",
      "_________________________________________________________________\n",
      "block2_conv2 (Conv2D)        (None, 75, 75, 128)       147584    \n",
      "_________________________________________________________________\n",
      "block2_pool (MaxPooling2D)   (None, 37, 37, 128)       0         \n",
      "_________________________________________________________________\n",
      "block3_conv1 (Conv2D)        (None, 37, 37, 256)       295168    \n",
      "_________________________________________________________________\n",
      "block3_conv2 (Conv2D)        (None, 37, 37, 256)       590080    \n",
      "_________________________________________________________________\n",
      "block3_conv3 (Conv2D)        (None, 37, 37, 256)       590080    \n",
      "_________________________________________________________________\n",
      "block3_pool (MaxPooling2D)   (None, 18, 18, 256)       0         \n",
      "_________________________________________________________________\n",
      "block4_conv1 (Conv2D)        (None, 18, 18, 512)       1180160   \n",
      "_________________________________________________________________\n",
      "block4_conv2 (Conv2D)        (None, 18, 18, 512)       2359808   \n",
      "_________________________________________________________________\n",
      "block4_conv3 (Conv2D)        (None, 18, 18, 512)       2359808   \n",
      "_________________________________________________________________\n",
      "block4_pool (MaxPooling2D)   (None, 9, 9, 512)         0         \n",
      "_________________________________________________________________\n",
      "block5_conv1 (Conv2D)        (None, 9, 9, 512)         2359808   \n",
      "_________________________________________________________________\n",
      "block5_conv2 (Conv2D)        (None, 9, 9, 512)         2359808   \n",
      "_________________________________________________________________\n",
      "block5_conv3 (Conv2D)        (None, 9, 9, 512)         2359808   \n",
      "_________________________________________________________________\n",
      "block5_pool (MaxPooling2D)   (None, 4, 4, 512)         0         \n",
      "=================================================================\n",
      "Total params: 14,714,688\n",
      "Trainable params: 14,714,688\n",
      "Non-trainable params: 0\n",
      "_________________________________________________________________\n"
     ]
    }
   ],
   "source": [
    "conv_base.summary()"
   ]
  },
  {
   "cell_type": "code",
   "execution_count": null,
   "metadata": {
    "colab": {},
    "colab_type": "code",
    "id": "JcCpjrJS2Huu"
   },
   "outputs": [],
   "source": [
    "from keras import models,layers\n",
    "from keras import optimizers"
   ]
  },
  {
   "cell_type": "code",
   "execution_count": null,
   "metadata": {
    "colab": {},
    "colab_type": "code",
    "id": "1ZnqpFWO2a37"
   },
   "outputs": [],
   "source": [
    "model=models.Sequential()\n",
    "model.add(conv_base)\n",
    "model.add(layers.Flatten())\n",
    "model.add(layers.Dense(256,activation='relu'))\n",
    "model.add(layers.Dense(5,activation='softmax'))"
   ]
  },
  {
   "cell_type": "code",
   "execution_count": null,
   "metadata": {
    "colab": {},
    "colab_type": "code",
    "id": "vZiYAlJZ3Bx4"
   },
   "outputs": [],
   "source": [
    "conv_base.trainable=False"
   ]
  },
  {
   "cell_type": "code",
   "execution_count": null,
   "metadata": {
    "colab": {},
    "colab_type": "code",
    "id": "-hUHF8-i3Kk2"
   },
   "outputs": [],
   "source": [
    "from keras.preprocessing.image import ImageDataGenerator"
   ]
  },
  {
   "cell_type": "code",
   "execution_count": null,
   "metadata": {
    "colab": {},
    "colab_type": "code",
    "id": "4oQ__mPt3SPj"
   },
   "outputs": [],
   "source": [
    "import os,shutil"
   ]
  },
  {
   "cell_type": "code",
   "execution_count": null,
   "metadata": {
    "colab": {},
    "colab_type": "code",
    "id": "xQLpb6r94Sre"
   },
   "outputs": [],
   "source": [
    "train='/content/train'"
   ]
  },
  {
   "cell_type": "code",
   "execution_count": null,
   "metadata": {
    "colab": {},
    "colab_type": "code",
    "id": "kU2Wp4E14BXB"
   },
   "outputs": [],
   "source": [
    "for dir_label in ['angry','happy','sad','surprised','unknown']:\n",
    "  z=0\n",
    "  for i in os.listdir(os.path.join(train,dir_label)):\n",
    "    os.rename(os.path.join(os.path.join(train,dir_label),i),f'{dir_label}.{z}.jpg')\n",
    "    z+=1"
   ]
  },
  {
   "cell_type": "code",
   "execution_count": null,
   "metadata": {
    "colab": {},
    "colab_type": "code",
    "id": "OJfiO6nR5skl"
   },
   "outputs": [],
   "source": [
    "for dir in ['train_dir','validation_dir']:\n",
    "  os.mkdir(dir)\n",
    "  for inner_dir in ['angry','happy','sad','surprised','unknown']:\n",
    "    os.mkdir(os.path.join(dir,inner_dir))\n"
   ]
  },
  {
   "cell_type": "code",
   "execution_count": null,
   "metadata": {
    "colab": {},
    "colab_type": "code",
    "id": "Lb7XNj7a8m0z"
   },
   "outputs": [],
   "source": [
    "import numpy as np"
   ]
  },
  {
   "cell_type": "code",
   "execution_count": null,
   "metadata": {
    "colab": {},
    "colab_type": "code",
    "id": "9gg-V_U0U5W9"
   },
   "outputs": [],
   "source": [
    "for i in ([f'happy.{t}.jpg' for t in np.arange(int(36*0.2))]):\n",
    "  shutil.move(os.path.join('/content',i),'/content/validation_dir/happy')\n",
    "\n"
   ]
  },
  {
   "cell_type": "code",
   "execution_count": null,
   "metadata": {
    "colab": {},
    "colab_type": "code",
    "id": "5CW7eh3sYeXd"
   },
   "outputs": [],
   "source": [
    "for i in ([f'happy.{t}.jpg' for t in range(7,37)]):\n",
    "  shutil.move(os.path.join('/content',i),'/content/train_dir/happy')"
   ]
  },
  {
   "cell_type": "code",
   "execution_count": null,
   "metadata": {
    "colab": {},
    "colab_type": "code",
    "id": "FrhK2fRjYuq5"
   },
   "outputs": [],
   "source": [
    "for i in ([f'sad.{t}.jpg' for t in range(int(39*0.2))]):\n",
    "  shutil.move(os.path.join('/content',i),'/content/validation_dir/sad')"
   ]
  },
  {
   "cell_type": "code",
   "execution_count": null,
   "metadata": {
    "colab": {},
    "colab_type": "code",
    "id": "AGu4af4yY758"
   },
   "outputs": [],
   "source": [
    "for i in ([f'sad.{t}.jpg' for t in range(int(39*0.2),40)]):\n",
    "  shutil.move(os.path.join('/content',i),'/content/train_dir/sad')"
   ]
  },
  {
   "cell_type": "code",
   "execution_count": null,
   "metadata": {
    "colab": {},
    "colab_type": "code",
    "id": "dj-_UBxGZOrp"
   },
   "outputs": [],
   "source": [
    "for i in ([f'surprised.{t}.jpg' for t in range(int(67*0.2))]):\n",
    "  shutil.move(os.path.join('/content',i),'/content/validation_dir/surprised')"
   ]
  },
  {
   "cell_type": "code",
   "execution_count": null,
   "metadata": {
    "colab": {},
    "colab_type": "code",
    "id": "mHMJSMZLZe9M"
   },
   "outputs": [],
   "source": [
    "for i in ([f'surprised.{t}.jpg' for t in range(int(67*0.2),68)]):\n",
    "  shutil.move(os.path.join('/content',i),'/content/train_dir/surprised')"
   ]
  },
  {
   "cell_type": "code",
   "execution_count": null,
   "metadata": {
    "colab": {},
    "colab_type": "code",
    "id": "5mqGd3JEZpFv"
   },
   "outputs": [],
   "source": [
    "for i in ([f'angry.{t}.jpg' for t in range(int(37*0.2))]):\n",
    "  shutil.move(os.path.join('/content',i),'/content/validation_dir/angry')"
   ]
  },
  {
   "cell_type": "code",
   "execution_count": null,
   "metadata": {
    "colab": {},
    "colab_type": "code",
    "id": "8HjOk_dzahHB"
   },
   "outputs": [],
   "source": [
    "for i in ([f'angry.{t}.jpg' for t in np.arange(int(37*0.2),37)]):\n",
    "  shutil.move(os.path.join('/content',i),'/content/train_dir/angry')"
   ]
  },
  {
   "cell_type": "code",
   "execution_count": null,
   "metadata": {
    "colab": {},
    "colab_type": "code",
    "id": "xgZmQSijariq"
   },
   "outputs": [],
   "source": [
    "for i in ([f'unknown.{t}.jpg' for t in np.arange(int(115*0.2))]):\n",
    "  shutil.move(os.path.join('/content',i),'/content/validation_dir/unknown')"
   ]
  },
  {
   "cell_type": "code",
   "execution_count": null,
   "metadata": {
    "colab": {},
    "colab_type": "code",
    "id": "pl-41UghccGB"
   },
   "outputs": [],
   "source": [
    "for i in ([f'unknown.{t}.jpg' for t in np.arange(int(115*0.2),116)]):\n",
    "  shutil.move(os.path.join('/content',i),'/content/train_dir/unknown')"
   ]
  },
  {
   "cell_type": "code",
   "execution_count": null,
   "metadata": {
    "colab": {},
    "colab_type": "code",
    "id": "3Xfija8ppyrn"
   },
   "outputs": [],
   "source": [
    "from keras.preprocessing.image import ImageDataGenerator"
   ]
  },
  {
   "cell_type": "code",
   "execution_count": null,
   "metadata": {
    "colab": {},
    "colab_type": "code",
    "id": "IX0ODf7oDctO"
   },
   "outputs": [],
   "source": [
    "train_dir='/content/train_dir'\n",
    "validation_dir='/content/validation_dir'"
   ]
  },
  {
   "cell_type": "code",
   "execution_count": null,
   "metadata": {
    "colab": {},
    "colab_type": "code",
    "id": "TAvFBQkDELMP"
   },
   "outputs": [],
   "source": [
    "train_datagenerator=ImageDataGenerator(\n",
    "    rescale=1./255,\n",
    "    rotation_range=40,\n",
    "    height_shift_range=0.2,\n",
    "    width_shift_range=0.2,\n",
    "    fill_mode='nearest',\n",
    "    zoom_range=0.2,\n",
    "    shear_range=0.2,\n",
    "    horizontal_flip=True\n",
    ")"
   ]
  },
  {
   "cell_type": "code",
   "execution_count": null,
   "metadata": {
    "colab": {},
    "colab_type": "code",
    "id": "aJmM8jRcE4GR"
   },
   "outputs": [],
   "source": [
    "test_datagenerator=ImageDataGenerator(\n",
    "    rescale=1./255\n",
    ")"
   ]
  },
  {
   "cell_type": "code",
   "execution_count": null,
   "metadata": {
    "colab": {
     "base_uri": "https://localhost:8080/",
     "height": 34
    },
    "colab_type": "code",
    "id": "VkiTnOYWFGaI",
    "outputId": "11b8b799-f896-458c-dfde-778497a4c44f"
   },
   "outputs": [
    {
     "name": "stdout",
     "output_type": "stream",
     "text": [
      "Found 241 images belonging to 5 classes.\n"
     ]
    }
   ],
   "source": [
    "train_generator=train_datagenerator.flow_from_directory(\n",
    "    train_dir,\n",
    "    target_size=(150,150),\n",
    "    batch_size=20,\n",
    "    class_mode='categorical'\n",
    ")"
   ]
  },
  {
   "cell_type": "code",
   "execution_count": null,
   "metadata": {
    "colab": {
     "base_uri": "https://localhost:8080/",
     "height": 34
    },
    "colab_type": "code",
    "id": "yCf6jO0AGX3I",
    "outputId": "46c5e185-6a9f-4f91-bfb0-fae712688baa"
   },
   "outputs": [
    {
     "name": "stdout",
     "output_type": "stream",
     "text": [
      "Found 57 images belonging to 5 classes.\n"
     ]
    }
   ],
   "source": [
    "validation_generator=test_datagenerator.flow_from_directory(\n",
    "    validation_dir,\n",
    "    target_size=(150,150),\n",
    "    class_mode='categorical'\n",
    ")"
   ]
  },
  {
   "cell_type": "code",
   "execution_count": null,
   "metadata": {
    "colab": {},
    "colab_type": "code",
    "id": "oUVeWHIGGxPu"
   },
   "outputs": [],
   "source": [
    "from keras import optimizers"
   ]
  },
  {
   "cell_type": "code",
   "execution_count": null,
   "metadata": {
    "colab": {},
    "colab_type": "code",
    "id": "WPHcdRJAHB13"
   },
   "outputs": [],
   "source": [
    "model.compile(optimizer=optimizers.RMSprop(lr=2e-5),loss='categorical_crossentropy',metrics=['acc'])"
   ]
  },
  {
   "cell_type": "code",
   "execution_count": null,
   "metadata": {
    "colab": {
     "base_uri": "https://localhost:8080/",
     "height": 884
    },
    "colab_type": "code",
    "id": "vGA-9xXgHeGE",
    "outputId": "340f2a7a-ed0d-4e40-c366-991516f4cb9d"
   },
   "outputs": [
    {
     "name": "stdout",
     "output_type": "stream",
     "text": [
      "Epoch 1/25\n",
      "30/30 [==============================] - 17s 577ms/step - loss: 1.4589 - acc: 0.4253 - val_loss: 1.4630 - val_acc: 0.4912\n",
      "Epoch 2/25\n",
      "30/30 [==============================] - 14s 461ms/step - loss: 1.2427 - acc: 0.5036 - val_loss: 1.3141 - val_acc: 0.5263\n",
      "Epoch 3/25\n",
      "30/30 [==============================] - 14s 471ms/step - loss: 1.1977 - acc: 0.5249 - val_loss: 1.2137 - val_acc: 0.5439\n",
      "Epoch 4/25\n",
      "30/30 [==============================] - 17s 562ms/step - loss: 1.1636 - acc: 0.5587 - val_loss: 1.2068 - val_acc: 0.5439\n",
      "Epoch 5/25\n",
      "30/30 [==============================] - 14s 461ms/step - loss: 1.0880 - acc: 0.5819 - val_loss: 1.1459 - val_acc: 0.5614\n",
      "Epoch 6/25\n",
      "30/30 [==============================] - 14s 471ms/step - loss: 1.0404 - acc: 0.5820 - val_loss: 1.0950 - val_acc: 0.5789\n",
      "Epoch 7/25\n",
      "30/30 [==============================] - 17s 562ms/step - loss: 1.0303 - acc: 0.6032 - val_loss: 1.1251 - val_acc: 0.5439\n",
      "Epoch 8/25\n",
      "30/30 [==============================] - 14s 451ms/step - loss: 0.9903 - acc: 0.6390 - val_loss: 0.9134 - val_acc: 0.5965\n",
      "Epoch 9/25\n",
      "30/30 [==============================] - 14s 472ms/step - loss: 0.9914 - acc: 0.6334 - val_loss: 1.1147 - val_acc: 0.6140\n",
      "Epoch 10/25\n",
      "30/30 [==============================] - 17s 552ms/step - loss: 0.9643 - acc: 0.6298 - val_loss: 1.1543 - val_acc: 0.5789\n",
      "Epoch 11/25\n",
      "30/30 [==============================] - 14s 469ms/step - loss: 0.9406 - acc: 0.6667 - val_loss: 1.0543 - val_acc: 0.5965\n",
      "Epoch 12/25\n",
      "30/30 [==============================] - 14s 468ms/step - loss: 0.8537 - acc: 0.7064 - val_loss: 0.9534 - val_acc: 0.6491\n",
      "Epoch 13/25\n",
      "30/30 [==============================] - 16s 549ms/step - loss: 0.8970 - acc: 0.6886 - val_loss: 1.0518 - val_acc: 0.6316\n",
      "Epoch 14/25\n",
      "30/30 [==============================] - 14s 475ms/step - loss: 0.8351 - acc: 0.7028 - val_loss: 0.8402 - val_acc: 0.6316\n",
      "Epoch 15/25\n",
      "30/30 [==============================] - 14s 467ms/step - loss: 0.8532 - acc: 0.7164 - val_loss: 0.8772 - val_acc: 0.7018\n",
      "Epoch 16/25\n",
      "30/30 [==============================] - 14s 478ms/step - loss: 0.8284 - acc: 0.7206 - val_loss: 0.9922 - val_acc: 0.6491\n",
      "Epoch 17/25\n",
      "30/30 [==============================] - 17s 572ms/step - loss: 0.8056 - acc: 0.7260 - val_loss: 0.8652 - val_acc: 0.7018\n",
      "Epoch 18/25\n",
      "30/30 [==============================] - 14s 468ms/step - loss: 0.7643 - acc: 0.7313 - val_loss: 1.0185 - val_acc: 0.6667\n",
      "Epoch 19/25\n",
      "30/30 [==============================] - 14s 475ms/step - loss: 0.6974 - acc: 0.7366 - val_loss: 0.7800 - val_acc: 0.6842\n",
      "Epoch 20/25\n",
      "30/30 [==============================] - 17s 576ms/step - loss: 0.7529 - acc: 0.7313 - val_loss: 0.9933 - val_acc: 0.7018\n",
      "Epoch 21/25\n",
      "30/30 [==============================] - 14s 464ms/step - loss: 0.7287 - acc: 0.7456 - val_loss: 1.0331 - val_acc: 0.7193\n",
      "Epoch 22/25\n",
      "30/30 [==============================] - 14s 471ms/step - loss: 0.7498 - acc: 0.7808 - val_loss: 0.8834 - val_acc: 0.7193\n",
      "Epoch 23/25\n",
      "30/30 [==============================] - 17s 564ms/step - loss: 0.6846 - acc: 0.7705 - val_loss: 0.7849 - val_acc: 0.7018\n",
      "Epoch 24/25\n",
      "30/30 [==============================] - 14s 458ms/step - loss: 0.6635 - acc: 0.7580 - val_loss: 0.6261 - val_acc: 0.6842\n",
      "Epoch 25/25\n",
      "30/30 [==============================] - 14s 468ms/step - loss: 0.6361 - acc: 0.7587 - val_loss: 0.9688 - val_acc: 0.7018\n"
     ]
    },
    {
     "data": {
      "text/plain": [
       "<keras.callbacks.callbacks.History at 0x7f9194725b00>"
      ]
     },
     "execution_count": 53,
     "metadata": {
      "tags": []
     },
     "output_type": "execute_result"
    }
   ],
   "source": [
    "model.fit_generator(train_generator,steps_per_epoch=30,epochs=25,validation_data=validation_generator,validation_steps=20)"
   ]
  },
  {
   "cell_type": "code",
   "execution_count": null,
   "metadata": {
    "colab": {},
    "colab_type": "code",
    "id": "vRZkWkZLH2-8"
   },
   "outputs": [],
   "source": [
    "model.save('Tom_Jerry.xml')"
   ]
  },
  {
   "cell_type": "code",
   "execution_count": null,
   "metadata": {
    "colab": {},
    "colab_type": "code",
    "id": "bvDiREu6Lc3H"
   },
   "outputs": [],
   "source": [
    "model.save('Tom_jerry.h5')"
   ]
  },
  {
   "cell_type": "code",
   "execution_count": null,
   "metadata": {
    "colab": {},
    "colab_type": "code",
    "id": "uJRGg7igMwBh"
   },
   "outputs": [],
   "source": []
  }
 ],
 "metadata": {
  "colab": {
   "collapsed_sections": [],
   "name": "TOM.ipynb",
   "provenance": []
  },
  "kernelspec": {
   "display_name": "Python 3",
   "language": "python",
   "name": "python3"
  },
  "language_info": {
   "codemirror_mode": {
    "name": "ipython",
    "version": 3
   },
   "file_extension": ".py",
   "mimetype": "text/x-python",
   "name": "python",
   "nbconvert_exporter": "python",
   "pygments_lexer": "ipython3",
   "version": "3.7.3"
  }
 },
 "nbformat": 4,
 "nbformat_minor": 1
}
