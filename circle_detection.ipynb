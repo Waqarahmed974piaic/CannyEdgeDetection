{
 "cells": [
  {
   "cell_type": "code",
   "execution_count": 3,
   "metadata": {},
   "outputs": [],
   "source": [
    "import cv2\n",
    "import numpy as np"
   ]
  },
  {
   "cell_type": "code",
   "execution_count": 21,
   "metadata": {},
   "outputs": [
    {
     "name": "stdout",
     "output_type": "stream",
     "text": [
      "[[[110.5  95.5  40.1]]]\n"
     ]
    }
   ],
   "source": [
    "img=cv2.imread(r\"C:\\Users\\Waqar Ahmed\\Desktop\\Open_CV\\shapes.jpg\")\n",
    "copy=img.copy()\n",
    "gray=cv2.cvtColor(img,cv2.COLOR_BGR2GRAY)\n",
    "gray=cv2.medianBlur(gray,5)\n",
    "circle=cv2.HoughCircles(gray,cv2.HOUGH_GRADIENT,1,20,param1=30,param2=50,minRadius=0,maxRadius=0)\n",
    "for (x,y,r) in circle[0,:]:\n",
    "    cv2.circle(copy,(x,y),r,(0,255,0),3)\n",
    "    cv2.circle(copy,(x,y),2,(0,255,0),3)    \n",
    "    \n",
    "print(circle)\n",
    "cv2.imshow('image',copy)\n",
    "cv2.waitKey(0)\n",
    "cv2.destroyAllWindows()"
   ]
  },
  {
   "cell_type": "code",
   "execution_count": null,
   "metadata": {},
   "outputs": [],
   "source": []
  }
 ],
 "metadata": {
  "kernelspec": {
   "display_name": "Python 3",
   "language": "python",
   "name": "python3"
  },
  "language_info": {
   "codemirror_mode": {
    "name": "ipython",
    "version": 3
   },
   "file_extension": ".py",
   "mimetype": "text/x-python",
   "name": "python",
   "nbconvert_exporter": "python",
   "pygments_lexer": "ipython3",
   "version": "3.7.3"
  }
 },
 "nbformat": 4,
 "nbformat_minor": 2
}
