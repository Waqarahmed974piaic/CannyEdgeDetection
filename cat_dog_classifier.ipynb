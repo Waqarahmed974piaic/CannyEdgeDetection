{
 "cells": [
  {
   "cell_type": "code",
   "execution_count": 1,
   "metadata": {},
   "outputs": [],
   "source": [
    "from tensorflow.keras import models,layers,optimizers"
   ]
  },
  {
   "cell_type": "code",
   "execution_count": 2,
   "metadata": {},
   "outputs": [],
   "source": [
    "model=models.Sequential()\n",
    "model.add(layers.Conv2D(32,(3,3),activation='relu',input_shape=(150,150,3)))\n",
    "model.add(layers.MaxPool2D((2,2)))\n",
    "model.add(layers.Conv2D(64,(3,3),activation='relu'))\n",
    "model.add(layers.MaxPool2D((2,2)))\n",
    "model.add(layers.Conv2D(128,(3,3),activation='relu'))\n",
    "model.add(layers.MaxPool2D((2,2)))\n",
    "model.add(layers.Conv2D(128,(3,3),activation='relu'))\n",
    "model.add(layers.MaxPool2D((2,2)))\n",
    "model.add(layers.Flatten())\n",
    "model.add(layers.Dense('512',activation='relu'))\n",
    "model.add(layers.Dense(1,activation='sigmoid'))\n",
    "\n"
   ]
  },
  {
   "cell_type": "code",
   "execution_count": 3,
   "metadata": {},
   "outputs": [],
   "source": [
    "model.compile(loss='binary_crossentropy',optimizer=optimizers.RMSprop(lr=1e-4),metrics=['acc'])"
   ]
  },
  {
   "cell_type": "code",
   "execution_count": 4,
   "metadata": {},
   "outputs": [
    {
     "name": "stdout",
     "output_type": "stream",
     "text": [
      "Model: \"sequential\"\n",
      "_________________________________________________________________\n",
      "Layer (type)                 Output Shape              Param #   \n",
      "=================================================================\n",
      "conv2d (Conv2D)              (None, 148, 148, 32)      896       \n",
      "_________________________________________________________________\n",
      "max_pooling2d (MaxPooling2D) (None, 74, 74, 32)        0         \n",
      "_________________________________________________________________\n",
      "conv2d_1 (Conv2D)            (None, 72, 72, 64)        18496     \n",
      "_________________________________________________________________\n",
      "max_pooling2d_1 (MaxPooling2 (None, 36, 36, 64)        0         \n",
      "_________________________________________________________________\n",
      "conv2d_2 (Conv2D)            (None, 34, 34, 128)       73856     \n",
      "_________________________________________________________________\n",
      "max_pooling2d_2 (MaxPooling2 (None, 17, 17, 128)       0         \n",
      "_________________________________________________________________\n",
      "conv2d_3 (Conv2D)            (None, 15, 15, 128)       147584    \n",
      "_________________________________________________________________\n",
      "max_pooling2d_3 (MaxPooling2 (None, 7, 7, 128)         0         \n",
      "_________________________________________________________________\n",
      "flatten (Flatten)            (None, 6272)              0         \n",
      "_________________________________________________________________\n",
      "dense (Dense)                (None, 512)               3211776   \n",
      "_________________________________________________________________\n",
      "dense_1 (Dense)              (None, 1)                 513       \n",
      "=================================================================\n",
      "Total params: 3,453,121\n",
      "Trainable params: 3,453,121\n",
      "Non-trainable params: 0\n",
      "_________________________________________________________________\n"
     ]
    }
   ],
   "source": [
    "model.summary()"
   ]
  },
  {
   "cell_type": "code",
   "execution_count": 5,
   "metadata": {},
   "outputs": [
    {
     "name": "stderr",
     "output_type": "stream",
     "text": [
      "Using TensorFlow backend.\n"
     ]
    }
   ],
   "source": [
    "from keras.preprocessing.image import ImageDataGenerator\n",
    "train_datagen=ImageDataGenerator(rescale=1/255)\n",
    "test_datagen=ImageDataGenerator(rescale=1/255)"
   ]
  },
  {
   "cell_type": "code",
   "execution_count": 6,
   "metadata": {},
   "outputs": [],
   "source": [
    "train_dir=r\"C:\\Users\\Waqar Ahmed\\Desktop\\cat_dog_piaic\\train\"\n",
    "validation_dir=r\"C:\\Users\\Waqar Ahmed\\Desktop\\cat_dog_piaic\\validation\""
   ]
  },
  {
   "cell_type": "code",
   "execution_count": 7,
   "metadata": {},
   "outputs": [
    {
     "name": "stdout",
     "output_type": "stream",
     "text": [
      "Found 1815 images belonging to 2 classes.\n"
     ]
    }
   ],
   "source": [
    "train=train_datagen.flow_from_directory(\n",
    "    train_dir,\n",
    "    target_size=(150,150),\n",
    "    batch_size=20,\n",
    "    class_mode='binary'\n",
    "    \n",
    ")"
   ]
  },
  {
   "cell_type": "code",
   "execution_count": 8,
   "metadata": {},
   "outputs": [
    {
     "name": "stdout",
     "output_type": "stream",
     "text": [
      "Found 879 images belonging to 2 classes.\n"
     ]
    }
   ],
   "source": [
    "validation=test_datagen.flow_from_directory(\n",
    "    validation_dir,\n",
    "    target_size=(150,150),\n",
    "    batch_size=20,\n",
    "    class_mode='binary'\n",
    "    \n",
    ")"
   ]
  },
  {
   "cell_type": "code",
   "execution_count": 9,
   "metadata": {},
   "outputs": [],
   "source": [
    "# for data_batch,label_batch in train:\n",
    "#     print(f'data batch:{data_batch.shape}')"
   ]
  },
  {
   "cell_type": "code",
   "execution_count": 10,
   "metadata": {},
   "outputs": [
    {
     "name": "stdout",
     "output_type": "stream",
     "text": [
      "Epoch 1/30\n",
      "100/100 [==============================] - 252s 3s/step - loss: 0.6866 - acc: 0.5439 - val_loss: 0.6743 - val_acc: 0.5826\n",
      "Epoch 2/30\n",
      "100/100 [==============================] - 246s 2s/step - loss: 0.6495 - acc: 0.6175 - val_loss: 0.6401 - val_acc: 0.6066\n",
      "Epoch 3/30\n",
      "100/100 [==============================] - 247s 2s/step - loss: 0.6121 - acc: 0.6767 - val_loss: 0.6151 - val_acc: 0.6697\n",
      "Epoch 4/30\n",
      "100/100 [==============================] - 246s 2s/step - loss: 0.5604 - acc: 0.7095 - val_loss: 0.7994 - val_acc: 0.5566\n",
      "Epoch 5/30\n",
      "100/100 [==============================] - 245s 2s/step - loss: 0.5332 - acc: 0.7325 - val_loss: 0.5779 - val_acc: 0.6967\n",
      "Epoch 6/30\n",
      "100/100 [==============================] - 245s 2s/step - loss: 0.4996 - acc: 0.7599 - val_loss: 0.5711 - val_acc: 0.6717\n",
      "Epoch 7/30\n",
      "100/100 [==============================] - 246s 2s/step - loss: 0.4624 - acc: 0.7769 - val_loss: 0.5450 - val_acc: 0.7287\n",
      "Epoch 8/30\n",
      "100/100 [==============================] - 247s 2s/step - loss: 0.4317 - acc: 0.8040 - val_loss: 0.5542 - val_acc: 0.7117\n",
      "Epoch 9/30\n",
      "100/100 [==============================] - 241s 2s/step - loss: 0.4155 - acc: 0.8105 - val_loss: 0.5473 - val_acc: 0.7347\n",
      "Epoch 10/30\n",
      "100/100 [==============================] - 253s 3s/step - loss: 0.3775 - acc: 0.8336 - val_loss: 0.5367 - val_acc: 0.7217\n",
      "Epoch 11/30\n",
      "100/100 [==============================] - 250s 2s/step - loss: 0.3476 - acc: 0.8446 - val_loss: 0.5989 - val_acc: 0.7237\n",
      "Epoch 12/30\n",
      "100/100 [==============================] - 2150s 22s/step - loss: 0.3358 - acc: 0.8496 - val_loss: 0.5548 - val_acc: 0.7267\n",
      "Epoch 13/30\n",
      "100/100 [==============================] - 250s 3s/step - loss: 0.3075 - acc: 0.8704 - val_loss: 0.5559 - val_acc: 0.7277\n",
      "Epoch 14/30\n",
      "100/100 [==============================] - 252s 3s/step - loss: 0.2936 - acc: 0.8750 - val_loss: 0.6573 - val_acc: 0.7057\n",
      "Epoch 15/30\n",
      "100/100 [==============================] - 250s 3s/step - loss: 0.2463 - acc: 0.9035 - val_loss: 0.6080 - val_acc: 0.7427\n",
      "Epoch 16/30\n",
      "100/100 [==============================] - 254s 3s/step - loss: 0.2406 - acc: 0.9058 - val_loss: 0.5856 - val_acc: 0.7427\n",
      "Epoch 17/30\n",
      "100/100 [==============================] - 257s 3s/step - loss: 0.2312 - acc: 0.9078 - val_loss: 0.6059 - val_acc: 0.7508\n",
      "Epoch 18/30\n",
      "100/100 [==============================] - 257s 3s/step - loss: 0.1965 - acc: 0.9283 - val_loss: 0.6271 - val_acc: 0.7287\n",
      "Epoch 19/30\n",
      "100/100 [==============================] - 260s 3s/step - loss: 0.1933 - acc: 0.9248 - val_loss: 0.6523 - val_acc: 0.7237\n",
      "Epoch 20/30\n",
      "100/100 [==============================] - 254s 3s/step - loss: 0.1547 - acc: 0.9524 - val_loss: 0.6897 - val_acc: 0.7397\n",
      "Epoch 21/30\n",
      "100/100 [==============================] - 260s 3s/step - loss: 0.1445 - acc: 0.9539 - val_loss: 0.6694 - val_acc: 0.7377\n",
      "Epoch 22/30\n",
      "100/100 [==============================] - 260s 3s/step - loss: 0.1208 - acc: 0.9604 - val_loss: 0.7537 - val_acc: 0.7327\n",
      "Epoch 23/30\n",
      "100/100 [==============================] - 259s 3s/step - loss: 0.1132 - acc: 0.9654 - val_loss: 0.7401 - val_acc: 0.7477\n",
      "Epoch 24/30\n",
      "100/100 [==============================] - 261s 3s/step - loss: 0.0960 - acc: 0.9694 - val_loss: 0.8258 - val_acc: 0.7317\n",
      "Epoch 25/30\n",
      "100/100 [==============================] - 258s 3s/step - loss: 0.0859 - acc: 0.9779 - val_loss: 0.7645 - val_acc: 0.7377\n",
      "Epoch 26/30\n",
      "100/100 [==============================] - 261s 3s/step - loss: 0.0731 - acc: 0.9789 - val_loss: 1.1720 - val_acc: 0.6867\n",
      "Epoch 27/30\n",
      "100/100 [==============================] - 266s 3s/step - loss: 0.0605 - acc: 0.9825 - val_loss: 0.9389 - val_acc: 0.7367\n",
      "Epoch 28/30\n",
      "100/100 [==============================] - 261s 3s/step - loss: 0.0535 - acc: 0.9845 - val_loss: 1.0102 - val_acc: 0.7127\n",
      "Epoch 29/30\n",
      "100/100 [==============================] - 263s 3s/step - loss: 0.0463 - acc: 0.9875 - val_loss: 0.9188 - val_acc: 0.7487\n",
      "Epoch 30/30\n",
      "100/100 [==============================] - 258s 3s/step - loss: 0.0403 - acc: 0.9885 - val_loss: 0.9072 - val_acc: 0.7608\n"
     ]
    }
   ],
   "source": [
    "history=model.fit_generator(train,steps_per_epoch=100,epochs=30,validation_data=validation,validation_steps=50)"
   ]
  },
  {
   "cell_type": "code",
   "execution_count": 11,
   "metadata": {},
   "outputs": [],
   "source": [
    "model.save('cat_dog_small_1.h5')"
   ]
  },
  {
   "cell_type": "code",
   "execution_count": null,
   "metadata": {},
   "outputs": [],
   "source": []
  }
 ],
 "metadata": {
  "kernelspec": {
   "display_name": "Python 3",
   "language": "python",
   "name": "python3"
  },
  "language_info": {
   "codemirror_mode": {
    "name": "ipython",
    "version": 3
   },
   "file_extension": ".py",
   "mimetype": "text/x-python",
   "name": "python",
   "nbconvert_exporter": "python",
   "pygments_lexer": "ipython3",
   "version": "3.7.3"
  }
 },
 "nbformat": 4,
 "nbformat_minor": 2
}
