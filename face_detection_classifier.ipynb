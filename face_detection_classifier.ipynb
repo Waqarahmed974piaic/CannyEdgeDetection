{
 "cells": [
  {
   "cell_type": "code",
   "execution_count": 1,
   "metadata": {},
   "outputs": [],
   "source": [
    "import cv2"
   ]
  },
  {
   "cell_type": "code",
   "execution_count": 5,
   "metadata": {},
   "outputs": [
    {
     "name": "stdout",
     "output_type": "stream",
     "text": [
      "[[326 142  70  70]\n",
      " [171 129  80  80]\n",
      " [269 132  71  71]\n",
      " [470 147  74  74]\n",
      " [395 153  78  78]]\n"
     ]
    }
   ],
   "source": [
    "face_detection=cv2.CascadeClassifier(r\"C:\\Users\\Waqar Ahmed\\Desktop\\Open_CV\\haarcascade_frontalface_default.xml\")\n",
    "img=cv2.imread(r\"C:\\Users\\Waqar Ahmed\\Desktop\\Open_CV\\group_photo.png\")\n",
    "gray=cv2.cvtColor(img,cv2.COLOR_BGR2GRAY)\n",
    "faces=face_detection.detectMultiScale(gray,1.1,10)\n",
    "for (x,y,w,h) in faces:\n",
    "    cv2.rectangle(img,(x,y),(x+w,y+h),(0,255,0),3)\n",
    "cv2.imshow('image',img)\n",
    "cv2.waitKey(0)\n",
    "cv2.destroyAllWindows()\n",
    "print(faces)"
   ]
  },
  {
   "cell_type": "code",
   "execution_count": 4,
   "metadata": {},
   "outputs": [],
   "source": [
    "face_detection=cv2.CascadeClassifier(r\"C:\\Users\\Waqar Ahmed\\Desktop\\Open_CV\\haarcascade_frontalface_default.xml\")\n",
    "eye_detection=cv2.CascadeClassifier(r\"C:\\Users\\Waqar Ahmed\\Desktop\\Open_CV\\haarcascade_eye_tree_eyeglasses.xml\")\n",
    "cap=cv2.VideoCapture(0)\n",
    "while (cap.isOpened()):\n",
    "    _,frame=cap.read()\n",
    "    gray=cv2.cvtColor(frame,cv2.COLOR_BGR2GRAY)\n",
    "    faces=face_detection.detectMultiScale(gray,1.09,1)\n",
    "    for (x,y,w,h) in faces:\n",
    "        cv2.rectangle(frame,(x,y),(x+w,y+h),(0,255,0),3)\n",
    "        roi_gray=gray[y:y+h,x:x+w]\n",
    "        roi_color=frame[y:y+h,x:x+w]\n",
    "        eyes=eye_detection.detectMultiScale(roi_gray,1.09,1)\n",
    "        for (ex,ey,ew,eh) in eyes:\n",
    "            cv2.rectangle(roi_color,(ex,ey),(ex+w,ey+eh),(0,255,0),3)\n",
    "    cv2.imshow('image',frame)\n",
    "    if cv2.waitKey(1)==ord('q'):\n",
    "        break\n",
    "cap.release()\n",
    "cv2.destroyAllWindows()\n",
    "    \n"
   ]
  },
  {
   "cell_type": "code",
   "execution_count": null,
   "metadata": {},
   "outputs": [],
   "source": []
  }
 ],
 "metadata": {
  "kernelspec": {
   "display_name": "Python 3",
   "language": "python",
   "name": "python3"
  },
  "language_info": {
   "codemirror_mode": {
    "name": "ipython",
    "version": 3
   },
   "file_extension": ".py",
   "mimetype": "text/x-python",
   "name": "python",
   "nbconvert_exporter": "python",
   "pygments_lexer": "ipython3",
   "version": "3.7.3"
  }
 },
 "nbformat": 4,
 "nbformat_minor": 2
}
